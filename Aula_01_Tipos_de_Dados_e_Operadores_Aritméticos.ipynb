{
  "nbformat": 4,
  "nbformat_minor": 0,
  "metadata": {
    "colab": {
      "name": "Cópia de [E] Aula 01 - Tipos de Dados e Operadores Aritméticos.ipynb",
      "provenance": [],
      "collapsed_sections": [],
      "include_colab_link": true
    },
    "kernelspec": {
      "name": "python3",
      "display_name": "Python 3"
    }
  },
  "cells": [
    {
      "cell_type": "markdown",
      "metadata": {
        "id": "view-in-github",
        "colab_type": "text"
      },
      "source": [
        "<a href=\"https://colab.research.google.com/github/malumelo7/algoritmos/blob/main/Aula_01_Tipos_de_Dados_e_Operadores_Aritm%C3%A9ticos.ipynb\" target=\"_parent\"><img src=\"https://colab.research.google.com/assets/colab-badge.svg\" alt=\"Open In Colab\"/></a>"
      ]
    },
    {
      "cell_type": "markdown",
      "metadata": {
        "id": "9ujEVvoCTM6p"
      },
      "source": [
        "<img src=\"https://www.cesar.school/wp-content/uploads/2019/09/marca_cesar_school.png\" alt=\"drawing\" width=\"200\"/>\n",
        "\n",
        "# Python - **Aula 01**\n",
        "\n",
        "---\n",
        "\n",
        "- Entender conceitos básicos sobre programação;\n",
        "- Conhecer a linguagem Python;\n",
        "- Criar seu primeiro programa em Python;"
      ]
    },
    {
      "cell_type": "markdown",
      "metadata": {
        "id": "L1rO4J92bWIu"
      },
      "source": [
        "#Compreendendo as variáveis\n",
        "\n",
        "Em termos técnicos, uma variável atribui um local de armazenamento a um valor que está vinculado a um nome ou identificador simbólico. O nome da variável é usado para fazer referência a esse valor armazenado em um programa de computador."
      ]
    },
    {
      "cell_type": "code",
      "metadata": {
        "id": "gbAP6hlEbYeI"
      },
      "source": [
        "my_int = 103204934813\n",
        "idade = 81"
      ],
      "execution_count": null,
      "outputs": []
    },
    {
      "cell_type": "markdown",
      "metadata": {
        "id": "AVxtUEgYxRio"
      },
      "source": [
        "*   o nome da variável `my_int`\n",
        "*   o operador de atribuição, também conhecido como sinal de igual `=`\n",
        "*   o valor que está sendo vinculado ao nome da variável `103204934813`"
      ]
    },
    {
      "cell_type": "markdown",
      "metadata": {
        "id": "AFQKUYj3c1It"
      },
      "source": [
        "## Regras para criação de nomes de variáveis:\n",
        "\n",
        "- Não pode começar com número;\n",
        "- Não pode haver espaço (use `_`);\n",
        "- Não pode haver caracteres especiais: `\" ' , < > | / \\ ( ) @ ! # $ % ^ & * ~ - +`\n",
        "\n",
        "##Reatribuindo Variáveis"
      ]
    },
    {
      "cell_type": "code",
      "metadata": {
        "id": "S3sVtJ7aucvi"
      },
      "source": [
        "age = 30"
      ],
      "execution_count": null,
      "outputs": []
    },
    {
      "cell_type": "markdown",
      "metadata": {
        "id": "UUnLyISHNT2K"
      },
      "source": [
        "##Atribuição múltipla\n",
        "\n",
        "Com Python, você pode atribuir um único valor a várias variáveis ​​ao mesmo tempo. Isso permite inicializar várias variáveis ​​de uma vez, que você mesmo pode reatribuir posteriormente no programa ou por meio da entrada do usuário."
      ]
    },
    {
      "cell_type": "code",
      "metadata": {
        "id": "HtUBkYLeNbgz",
        "colab": {
          "base_uri": "https://localhost:8080/"
        },
        "outputId": "9d65b8c3-33fc-4940-dda8-cfd176571368"
      },
      "source": [
        "x = y = z = 0\n",
        "print(x)\n",
        "print(y)\n",
        "print(z)"
      ],
      "execution_count": null,
      "outputs": [
        {
          "output_type": "stream",
          "text": [
            "0\n",
            "0\n",
            "0\n"
          ],
          "name": "stdout"
        }
      ]
    },
    {
      "cell_type": "markdown",
      "metadata": {
        "id": "WHLD7iQHzhc9"
      },
      "source": [
        "\n",
        "#Criação e impressão de strings\n",
        "\n",
        "Strings existem entre aspas simples `'` ou duplas `\"` em Python, portanto, para criar uma string, coloque uma sequência de caracteres em um ou outro."
      ]
    },
    {
      "cell_type": "code",
      "metadata": {
        "id": "pT8v2fX3T0P_"
      },
      "source": [
        "'Esta é uma string entre aspas simples.'\n",
        "\"Esta é uma string entre aspas duplas.\""
      ],
      "execution_count": null,
      "outputs": []
    },
    {
      "cell_type": "markdown",
      "metadata": {
        "id": "koA9l9SLvGgv"
      },
      "source": [
        "Podemos imprimir strings simplesmente chamando a função `print()`"
      ]
    },
    {
      "cell_type": "code",
      "metadata": {
        "id": "Q2e1z7ECvOhm",
        "colab": {
          "base_uri": "https://localhost:8080/"
        },
        "outputId": "2a32ac4b-28e4-49b4-f8aa-598b54508525"
      },
      "source": [
        "# Print em Python\n",
        "print(\"Meu irmão é muito 'inteligente'\")"
      ],
      "execution_count": null,
      "outputs": [
        {
          "output_type": "stream",
          "text": [
            "Meu irmão é muito 'inteligente'\n"
          ],
          "name": "stdout"
        }
      ]
    },
    {
      "cell_type": "markdown",
      "metadata": {
        "id": "FfEWOwmhVLhE"
      },
      "source": [
        "##Sintaxe do comentário\n",
        "Os comentários em Python começam com uma marca de hash `#` e um caractere de espaço em branco e continuam até o final da linha.\n",
        "\n",
        "Geralmente, os comentários serão semelhantes a este:"
      ]
    },
    {
      "cell_type": "code",
      "metadata": {
        "id": "I8hKONOyVQOw"
      },
      "source": [
        "# comentário de linha\n",
        "'''comentário de bloco'''"
      ],
      "execution_count": null,
      "outputs": []
    },
    {
      "cell_type": "markdown",
      "metadata": {
        "id": "W7GPfOkUwNgg"
      },
      "source": [
        "##Comentários Inline\n",
        "Os comentários Iinline ocorrem na mesma linha de uma instrução, seguindo o próprio código.\n",
        "\n",
        "Geralmente, os comentários inline são assim:"
      ]
    },
    {
      "cell_type": "code",
      "metadata": {
        "id": "9BlI5KrMwkQ1"
      },
      "source": [
        "x = 8 # esse é um numero legal"
      ],
      "execution_count": null,
      "outputs": []
    },
    {
      "cell_type": "markdown",
      "metadata": {
        "id": "WsXf_ireWQZd"
      },
      "source": [
        "# Tipos de dados"
      ]
    },
    {
      "cell_type": "markdown",
      "metadata": {
        "id": "N4sCkPaMamYD"
      },
      "source": [
        "## Numéricos\n",
        "- `int` - Inteiros\n",
        "- `float` - Pontos Flutuantes\n",
        "\n",
        "## Texto\n",
        "- `str` - String\n",
        "\n",
        "## Booleano\n",
        "- `bool` - `True` ou `False`\n",
        " \n",
        " (Booleano é com letra maiúscula)\n",
        "\n",
        "##Listas\n",
        "- `list` - [ ]\n",
        "\n",
        "##Tuplas\n",
        "- `tuples` - ( )\n",
        "\n",
        "##Dicionários\n",
        "- `dictionary` - { }\n",
        "\n",
        "> Função `type()`"
      ]
    },
    {
      "cell_type": "code",
      "metadata": {
        "id": "LrgPw5AZWYBY",
        "colab": {
          "base_uri": "https://localhost:8080/"
        },
        "outputId": "5f53e65e-082c-4a43-fae3-23d2c46f922e"
      },
      "source": [
        "print(type(10))\n",
        "print(type(10.0))\n",
        "print(type('Malu'))\n",
        "print(type(True))\n",
        "print(type([0,1]))\n",
        "print(type((1,2,3)))\n",
        "print(type({1:2,2:3}))"
      ],
      "execution_count": null,
      "outputs": [
        {
          "output_type": "stream",
          "text": [
            "<class 'int'>\n",
            "<class 'float'>\n",
            "<class 'str'>\n",
            "<class 'bool'>\n",
            "<class 'list'>\n",
            "<class 'tuple'>\n",
            "<class 'dict'>\n"
          ],
          "name": "stdout"
        }
      ]
    },
    {
      "cell_type": "markdown",
      "metadata": {
        "id": "qf0JgZfioSeU"
      },
      "source": [
        "# ENTRADA DE DADOS\n",
        "Entrada de Dados refere-se a entrada de dados do mundo externo para o meio digital.\n",
        "\n",
        "Sintaxe da função input()\n",
        "\n",
        "```variável = input(mensagem opcional)```\n"
      ]
    },
    {
      "cell_type": "markdown",
      "metadata": {
        "id": "8wiraQnQL_Yn"
      },
      "source": [
        "Input sempre trás as informações como string em python"
      ]
    },
    {
      "cell_type": "code",
      "metadata": {
        "id": "0Ac7eUAxoaJB",
        "colab": {
          "base_uri": "https://localhost:8080/"
        },
        "outputId": "7db41d11-7432-475a-f6e7-18fe90dab592"
      },
      "source": [
        "name = input('Insira o seu nome: ')\n",
        "print(\"O meu nome é\", name)"
      ],
      "execution_count": null,
      "outputs": [
        {
          "output_type": "stream",
          "text": [
            "Insira o seu nome: Malu\n",
            "O meu nome é Malu\n"
          ],
          "name": "stdout"
        }
      ]
    },
    {
      "cell_type": "markdown",
      "metadata": {
        "id": "gJStn9uApEa4"
      },
      "source": [
        "#Funções para conversão de tipo\n",
        "\n",
        "Algumas vezes é necessário converter valores de um tipo para outro. As funções int, float e str tentarão converter seus argumentos para os tipos int, float e str, respectivamente. Nós chamamos elas de funções para conversão de tipos."
      ]
    },
    {
      "cell_type": "markdown",
      "metadata": {
        "id": "WLn0pnTqnBh3"
      },
      "source": [
        "##Convertendo os tipos de número"
      ]
    },
    {
      "cell_type": "code",
      "metadata": {
        "id": "ZCEYln4WsTL5",
        "colab": {
          "base_uri": "https://localhost:8080/"
        },
        "outputId": "aa010f6b-e440-475c-8079-895b50403e42"
      },
      "source": [
        "# Convertendo os números inteiros em floats\n",
        "a = 10\n",
        "print(type(a))\n",
        "a = float(a)\n",
        "print(type(a))\n",
        "\n",
        "# Input para float\n",
        "b = float(input('Insira um número: '))\n",
        "print(b)\n",
        "print(type(b))\n",
        "b = int(b)\n",
        "print(type(b))\n",
        "\n",
        "# Convertendo floats em inteiros\n",
        "c = int(10.0)\n",
        "print(c)\n",
        "print(type(c))\n",
        "\n",
        "# Números convertidos através de divisão\n",
        "a = 5/2\n",
        "print(a)"
      ],
      "execution_count": null,
      "outputs": [
        {
          "output_type": "stream",
          "text": [
            "<class 'int'>\n",
            "<class 'float'>\n",
            "Insira um número: 81\n",
            "81.0\n",
            "<class 'float'>\n",
            "<class 'int'>\n",
            "10\n",
            "<class 'int'>\n"
          ],
          "name": "stdout"
        }
      ]
    },
    {
      "cell_type": "markdown",
      "metadata": {
        "id": "unA7FMpPsp2q"
      },
      "source": [
        "##Convertendo com as strings"
      ]
    },
    {
      "cell_type": "code",
      "metadata": {
        "id": "OSKDPD4_s0so",
        "colab": {
          "base_uri": "https://localhost:8080/"
        },
        "outputId": "606edf09-2697-4c33-a544-2ea933a8d54a"
      },
      "source": [
        "# Convertendo números em strings\n",
        "txt = str(50)\n",
        "print(type(txt))\n",
        "\n",
        "# Convertendo strings em números\n",
        "txt = int('12')\n",
        "print(type(txt))\n",
        "\n",
        "# --------------------------\n"
      ],
      "execution_count": null,
      "outputs": [
        {
          "output_type": "stream",
          "text": [
            "<class 'str'>\n",
            "<class 'int'>\n"
          ],
          "name": "stdout"
        }
      ]
    },
    {
      "cell_type": "markdown",
      "metadata": {
        "id": "6fOqcWCyYMit"
      },
      "source": [
        "# Operações Aritméticas\n",
        "\n",
        "`x + y`\tSoma de X e Y\n",
        "\n",
        "`x - y`\tSubtração de X e Y\n",
        "\n",
        "`-x`\tSinal alterado de X\n",
        "\n",
        "`+x`\tIdentidade de X\n",
        "\n",
        "`x * y`\tMultiplicação de X e Y\n",
        "\n",
        "`x / y`\tDivisão de X e Y (aqui sempre retorna float)\n",
        "\n",
        "`x // y`\tDivisão de X e Y com resultado em inteiro\n",
        "\n",
        "`x % y`\tResto da divisão de X / Y\n",
        "\n",
        "`x ** y`\tX elevado a Y"
      ]
    },
    {
      "cell_type": "code",
      "metadata": {
        "id": "22HRvNH8YbN4",
        "colab": {
          "base_uri": "https://localhost:8080/"
        },
        "outputId": "bff6619c-b0c9-4e7d-bf83-b535a63af7d5"
      },
      "source": [
        "print(5 // 2)"
      ],
      "execution_count": null,
      "outputs": [
        {
          "output_type": "stream",
          "text": [
            "2\n"
          ],
          "name": "stdout"
        }
      ]
    },
    {
      "cell_type": "code",
      "metadata": {
        "id": "ENKf-mJAZRle",
        "colab": {
          "base_uri": "https://localhost:8080/"
        },
        "outputId": "68a7a492-d48b-40cf-b60c-221d6af86208"
      },
      "source": [
        "print(5 % 2)"
      ],
      "execution_count": null,
      "outputs": [
        {
          "output_type": "stream",
          "text": [
            "1\n"
          ],
          "name": "stdout"
        }
      ]
    },
    {
      "cell_type": "code",
      "metadata": {
        "id": "FuYK_oc9ZT-X",
        "colab": {
          "base_uri": "https://localhost:8080/"
        },
        "outputId": "d2413fae-c657-4cf2-d34d-50cfbd4ee1c5"
      },
      "source": [
        "print(2**4)"
      ],
      "execution_count": null,
      "outputs": [
        {
          "output_type": "stream",
          "text": [
            "16\n"
          ],
          "name": "stdout"
        }
      ]
    },
    {
      "cell_type": "code",
      "metadata": {
        "id": "6TUrxlpLZZYP",
        "colab": {
          "base_uri": "https://localhost:8080/"
        },
        "outputId": "6286d2dc-8866-4d52-e63a-287ec879d177"
      },
      "source": [
        "n = 10\n",
        "print(-n)"
      ],
      "execution_count": null,
      "outputs": [
        {
          "output_type": "stream",
          "text": [
            "-10\n"
          ],
          "name": "stdout"
        }
      ]
    },
    {
      "cell_type": "markdown",
      "metadata": {
        "id": "PbswAVPDQWGU"
      },
      "source": [
        "#Operações Aritméticas Unárias\n",
        "\n",
        "Uma expressão matemática unária consiste em apenas um componente ou elemento e, em Python, os sinais de mais e menos podem ser usados ​​como um único elemento emparelhado com um valor para retornar a identidade do valor (`+`) ou alterar o sinal do valor (`-`)."
      ]
    },
    {
      "cell_type": "code",
      "metadata": {
        "id": "HThziQMoZeR-",
        "colab": {
          "base_uri": "https://localhost:8080/"
        },
        "outputId": "34ae127f-f1d5-4f91-f5fd-d1d7e87c0c7d"
      },
      "source": [
        "n = -10\n",
        "print(-n)"
      ],
      "execution_count": null,
      "outputs": [
        {
          "output_type": "stream",
          "text": [
            "10\n"
          ],
          "name": "stdout"
        }
      ]
    },
    {
      "cell_type": "markdown",
      "metadata": {
        "id": "N5isIh00MSET"
      },
      "source": [
        "A ordem da operação aritmética importa!"
      ]
    },
    {
      "cell_type": "code",
      "metadata": {
        "id": "sukjPYA-aIJ2",
        "colab": {
          "base_uri": "https://localhost:8080/"
        },
        "outputId": "055655ce-6bbb-4352-9e27-f9d7a48acaeb"
      },
      "source": [
        "total1 = 2 + 10 * 10 - 5\n",
        "print(total1)"
      ],
      "execution_count": null,
      "outputs": [
        {
          "output_type": "stream",
          "text": [
            "97\n"
          ],
          "name": "stdout"
        }
      ]
    },
    {
      "cell_type": "code",
      "metadata": {
        "id": "9VzHixciaWmH",
        "colab": {
          "base_uri": "https://localhost:8080/"
        },
        "outputId": "a1850bf6-00f2-4358-83d7-2f76455db6e6"
      },
      "source": [
        "total2 = (2 + 10) * (10 - 5)\n",
        "print(total2)"
      ],
      "execution_count": null,
      "outputs": [
        {
          "output_type": "stream",
          "text": [
            "60\n"
          ],
          "name": "stdout"
        }
      ]
    },
    {
      "cell_type": "code",
      "metadata": {
        "id": "Wz47pP7DMqNA",
        "colab": {
          "base_uri": "https://localhost:8080/"
        },
        "outputId": "c1b6f5f2-e0d1-4ac8-e512-6bffb75c62c2"
      },
      "source": [
        "total3 = 20 + 5 * 2;\n",
        "print(total3)"
      ],
      "execution_count": null,
      "outputs": [
        {
          "output_type": "stream",
          "text": [
            "30\n"
          ],
          "name": "stdout"
        }
      ]
    },
    {
      "cell_type": "code",
      "metadata": {
        "id": "qlxTpJG9mDpw",
        "colab": {
          "base_uri": "https://localhost:8080/"
        },
        "outputId": "ca23e644-0196-4ee2-bfa9-201ba357aa50"
      },
      "source": [
        "total4 = (20 + 5) * 2;\n",
        "print(total4)"
      ],
      "execution_count": null,
      "outputs": [
        {
          "output_type": "stream",
          "text": [
            "50\n"
          ],
          "name": "stdout"
        }
      ]
    },
    {
      "cell_type": "code",
      "metadata": {
        "id": "Qime-C8AmFUY",
        "colab": {
          "base_uri": "https://localhost:8080/"
        },
        "outputId": "a085c5c8-a16b-4b40-fe02-cedd7b2dae72"
      },
      "source": [
        "total5 = 20 / 2 * 5;\n",
        "print(total5)"
      ],
      "execution_count": null,
      "outputs": [
        {
          "output_type": "stream",
          "text": [
            "50.0\n"
          ],
          "name": "stdout"
        }
      ]
    },
    {
      "cell_type": "code",
      "metadata": {
        "id": "yKZ8c78CmGcB",
        "colab": {
          "base_uri": "https://localhost:8080/"
        },
        "outputId": "91349221-f59a-427c-f7ca-0f81dd7dbe22"
      },
      "source": [
        "total6 = 10 + 10 * 2 + 20 / 2;\n",
        "print(total6)"
      ],
      "execution_count": null,
      "outputs": [
        {
          "output_type": "stream",
          "text": [
            "40.0\n"
          ],
          "name": "stdout"
        }
      ]
    },
    {
      "cell_type": "markdown",
      "metadata": {
        "id": "Ohy7mWPJRWbJ"
      },
      "source": [
        "##Operadores de atribuição\n",
        "\n",
        "\n",
        "* `+=` - - adiciona e atribui o valor\n",
        "* `-=` - - subtrai e atribui o valor\n",
        "* `*=` - - multiplica e atribui o valor\n",
        "* `/=` - - divide e atribui o valor\n",
        "* `//=` - - divide e depois atribuir o valor em inteiro\n",
        "* `**=` - - aumentar a potência e então atribuir o valor\n",
        "* `%=` - - retorna o resto da divisão e depois atribui o valor\n",
        "\n"
      ]
    },
    {
      "cell_type": "code",
      "metadata": {
        "colab": {
          "base_uri": "https://localhost:8080/"
        },
        "id": "WZj8YbTVXN5f",
        "outputId": "9b7310c4-7f7b-4f12-956d-c6ca96714f35"
      },
      "source": [
        "a = 11\n",
        "a+=1\n",
        "print(a)"
      ],
      "execution_count": null,
      "outputs": [
        {
          "output_type": "stream",
          "text": [
            "12\n"
          ],
          "name": "stdout"
        }
      ]
    },
    {
      "cell_type": "code",
      "metadata": {
        "id": "wASxPioUTGTA"
      },
      "source": [
        "y = 0\n",
        "y += 1\n",
        "y -= 1\n",
        "y *= 2\n",
        "y /= 3\n",
        "y //= 5\n",
        "y **= 2\n",
        "y %= 3"
      ],
      "execution_count": null,
      "outputs": []
    },
    {
      "cell_type": "markdown",
      "metadata": {
        "id": "ALgn8jEOXI8m"
      },
      "source": [
        "# Exercícios\n",
        "\n",
        "1. Faça um Programa que mostre a mensagem \"Alo mundo\" na tela"
      ]
    },
    {
      "cell_type": "code",
      "metadata": {
        "id": "E-tm-Ac-dkKI",
        "colab": {
          "base_uri": "https://localhost:8080/"
        },
        "outputId": "55cb7e87-35f8-49bb-b539-1344aef5ada9"
      },
      "source": [
        "print(\"Alo mundo\")"
      ],
      "execution_count": null,
      "outputs": [
        {
          "output_type": "stream",
          "text": [
            "Alo mundo\n"
          ],
          "name": "stdout"
        }
      ]
    },
    {
      "cell_type": "markdown",
      "metadata": {
        "id": "H9Xmh3n0dku7"
      },
      "source": [
        "\n",
        "2. Faça um Programa que peça um número e então mostre a mensagem O número informado foi [número]."
      ]
    },
    {
      "cell_type": "code",
      "metadata": {
        "id": "oJxXXoQMePMm",
        "colab": {
          "base_uri": "https://localhost:8080/"
        },
        "outputId": "ca0e4a48-51da-481d-f982-f9050c53cde1"
      },
      "source": [
        "number = int(input(\"Digite um número: \"))\n",
        "print(\"O número informado foi \", number)"
      ],
      "execution_count": null,
      "outputs": [
        {
          "output_type": "stream",
          "text": [
            "Digite um número: 8\n",
            "O número informado foi  8\n"
          ],
          "name": "stdout"
        }
      ]
    },
    {
      "cell_type": "markdown",
      "metadata": {
        "id": "Mc8ww-KEdndf"
      },
      "source": [
        "\n",
        "3. Faça um Programa que peça dois números e imprima a soma."
      ]
    },
    {
      "cell_type": "code",
      "metadata": {
        "id": "SfwZe2zseO3m",
        "colab": {
          "base_uri": "https://localhost:8080/"
        },
        "outputId": "fd0deaff-cf15-441f-deed-62a886980c49"
      },
      "source": [
        "number1 = int(input(\"Digite o 1º número: \"))\n",
        "number2 = int(input(\"Digite o 2º número: \"))\n",
        "\n",
        "soma = number1 + number2\n",
        "\n",
        "print(soma)"
      ],
      "execution_count": null,
      "outputs": [
        {
          "output_type": "stream",
          "text": [
            "Digite o 1º número: 1\n",
            "Digite o 2º número: 1\n",
            "2\n"
          ],
          "name": "stdout"
        }
      ]
    },
    {
      "cell_type": "markdown",
      "metadata": {
        "id": "MfVY2KazdpxA"
      },
      "source": [
        "\n",
        "4. Faça um Programa que peça as 4 notas bimestrais e mostre a média."
      ]
    },
    {
      "cell_type": "code",
      "metadata": {
        "id": "B5dg4jyLeOV9",
        "colab": {
          "base_uri": "https://localhost:8080/"
        },
        "outputId": "f861f801-c226-433a-db5e-b97538773b58"
      },
      "source": [
        "lista = []\n",
        "soma = 0\n",
        "i = 0\n",
        "\n",
        "for i in range(4):\n",
        "  nota = float(input(\"Digite a nota: \"))\n",
        "  soma += nota\n",
        "\n",
        "media = float(soma/4)\n",
        "\n",
        "print(\"A média é: \", media)"
      ],
      "execution_count": null,
      "outputs": [
        {
          "output_type": "stream",
          "text": [
            "Digite a nota: 11\n",
            "Digite a nota: 10\n",
            "Digite a nota: 9\n",
            "Digite a nota: 8\n",
            "A média é:  9.5\n"
          ],
          "name": "stdout"
        }
      ]
    },
    {
      "cell_type": "markdown",
      "metadata": {
        "id": "GYPjRaE1dsEo"
      },
      "source": [
        "\n",
        "5. Faça um Programa que converta metros para centímetros."
      ]
    },
    {
      "cell_type": "code",
      "metadata": {
        "id": "bDTpB4hxeOAS",
        "colab": {
          "base_uri": "https://localhost:8080/"
        },
        "outputId": "3e9aefe8-e1b1-4627-e244-041be433f831"
      },
      "source": [
        "valor_metro = float(input(\"Digite o valor em metros: \"))\n",
        "\n",
        "valor_centimetro = valor_metro*100\n",
        "\n",
        "print(f\"O valor em centímetro é:  {valor_centimetro:.2f}\")"
      ],
      "execution_count": null,
      "outputs": [
        {
          "output_type": "stream",
          "text": [
            "Digite o valor em metros: 12\n",
            "O valor em centímetro é:  1200.00\n"
          ],
          "name": "stdout"
        }
      ]
    },
    {
      "cell_type": "markdown",
      "metadata": {
        "id": "Iw_6PGlvdt2P"
      },
      "source": [
        "\n",
        "6. Faça um Programa que peça o raio de um círculo, calcule e mostre sua área."
      ]
    },
    {
      "cell_type": "code",
      "metadata": {
        "id": "QBB456-ceNox",
        "colab": {
          "base_uri": "https://localhost:8080/"
        },
        "outputId": "ad8326ed-d25b-4cb4-fb98-eb2bd2949509"
      },
      "source": [
        "PI = 3.14\n",
        "raio = float(input(\"Digite o valor do raio: \"))\n",
        "area = (PI*(raio)**2)/2\n",
        "\n",
        "print(f\"A área do círculo é:  {area:.2f}\")"
      ],
      "execution_count": null,
      "outputs": [
        {
          "output_type": "stream",
          "text": [
            "Digite o valor do raio: 2\n",
            "A área do círculo é:  6.28\n"
          ],
          "name": "stdout"
        }
      ]
    },
    {
      "cell_type": "markdown",
      "metadata": {
        "id": "6WX2yHw8dvgh"
      },
      "source": [
        "\n",
        "7. Faça um Programa que calcule a área de um quadrado, em seguida mostre o dobro desta área para o usuário."
      ]
    },
    {
      "cell_type": "code",
      "metadata": {
        "id": "bq1uTrxieNIi",
        "colab": {
          "base_uri": "https://localhost:8080/"
        },
        "outputId": "4e7accda-21fc-413d-e4f0-5b16268414a5"
      },
      "source": [
        "lado = int(input(\"Insira o lado: \"))\n",
        "area = lado**2\n",
        "dobro_area = 2*area\n",
        "\n",
        "print(\"O dobro da área é: \", dobro_area)\n",
        "\n"
      ],
      "execution_count": null,
      "outputs": [
        {
          "output_type": "stream",
          "text": [
            "Insira o lado: 2\n",
            "O dobro da área é:  8\n"
          ],
          "name": "stdout"
        }
      ]
    },
    {
      "cell_type": "markdown",
      "metadata": {
        "id": "OHtr_FwmdxNL"
      },
      "source": [
        "\n",
        "8. Faça um Programa que pergunte quanto você ganha por hora e o número de horas trabalhadas no mês. Calcule e mostre o total do seu salário no referido mês."
      ]
    },
    {
      "cell_type": "code",
      "metadata": {
        "id": "r8eK89x0eMzi",
        "colab": {
          "base_uri": "https://localhost:8080/"
        },
        "outputId": "ae3251f1-96bd-4c32-bccf-1fb837cbd721"
      },
      "source": [
        "salario_por_hora =  float(input(\"Quanto você ganha por hora? \"))\n",
        "horas_trabalhadas_mes = float(input(\"Quantas horas você trabalha por mês? \"))\n",
        "salario_mes = salario_por_hora*horas_trabalhadas_mes\n",
        "print(f\"O seu salário no mês foi: {salario_mes:.2f}\") "
      ],
      "execution_count": null,
      "outputs": [
        {
          "output_type": "stream",
          "text": [
            "Quanto você ganha por hora? 5.4\n",
            "Quantas horas você trabalha por mês? 60\n",
            "O seu salário no mês foi: 324.00\n"
          ],
          "name": "stdout"
        }
      ]
    },
    {
      "cell_type": "markdown",
      "metadata": {
        "id": "OTc5-XqodzSn"
      },
      "source": [
        "\n",
        "9. Faça um Programa que peça a temperatura em graus Fahrenheit, transforme e mostre a temperatura em graus Celsius.\n",
        "> C = 5 * ((F-32) / 9)."
      ]
    },
    {
      "cell_type": "code",
      "metadata": {
        "id": "bfkUM9cceMbv",
        "colab": {
          "base_uri": "https://localhost:8080/"
        },
        "outputId": "89ddf2b4-9d91-425a-c643-3e3e77b7a5a6"
      },
      "source": [
        "def converteFemC(temperatura_fahrenheit):\n",
        "  return print(f\"A temperatura em graus Celsius é: {5*((temperatura_fahrenheit-32)/9):.1f}°\")\n",
        "\n",
        "def main():\n",
        "  temperatura_fahrenheit = float(input(\"Digite a temperatura em graus Fahrenheit: \"))\n",
        "\n",
        "  converteFemC(temperatura_fahrenheit)\n",
        "\n",
        "if __name__ == '__main__':\n",
        "  main()\n"
      ],
      "execution_count": null,
      "outputs": [
        {
          "output_type": "stream",
          "text": [
            "Digite a temperatura em graus Fahrenheit: 32\n",
            "A temperatura em graus Celsius é: 0.0°\n"
          ],
          "name": "stdout"
        }
      ]
    },
    {
      "cell_type": "markdown",
      "metadata": {
        "id": "E17ya82wd1rv"
      },
      "source": [
        "\n",
        "10. Faça um Programa que peça a temperatura em graus Celsius, transforme e mostre em graus Fahrenheit."
      ]
    },
    {
      "cell_type": "code",
      "metadata": {
        "id": "5f6H4KPoeMBf",
        "colab": {
          "base_uri": "https://localhost:8080/"
        },
        "outputId": "23828aa4-d80f-46f7-ca4d-2932404ad5c0"
      },
      "source": [
        "def converteCemF(temperatura_celsius):\n",
        "  temperatura_fahrenheit = float((temperatura_celsius*1.8)+32)\n",
        "  return print(f\"A temperatura em graus Fahrenheit é: {temperatura_fahrenheit:.1f}°\")\n",
        "\n",
        "def main():\n",
        "  temperatura_celsius = float(input(\"Digite a temperatura em graus Celsius: \"))\n",
        "\n",
        "  converteCemF(temperatura_celsius)\n",
        "\n",
        "if __name__ == '__main__':\n",
        "  main()"
      ],
      "execution_count": null,
      "outputs": [
        {
          "output_type": "stream",
          "text": [
            "Digite a temperatura em graus Celsius: 0\n",
            "A temperatura em graus Fahrenheit é: 32.0°\n"
          ],
          "name": "stdout"
        }
      ]
    },
    {
      "cell_type": "markdown",
      "metadata": {
        "id": "gfkqRT1hd5Uq"
      },
      "source": [
        "\n",
        "11. Faça um Programa que peça 2 números inteiros e um número real. Calcule e mostre:\n",
        "    - o produto do dobro do primeiro com metade do segundo.\n",
        "    - soma do triplo do primeiro com o terceiro.\n",
        "    - terceiro elevado ao cubo."
      ]
    },
    {
      "cell_type": "code",
      "metadata": {
        "id": "U0LGrxCYeLbT",
        "colab": {
          "base_uri": "https://localhost:8080/"
        },
        "outputId": "a9f7713b-0af3-4458-fe2c-fe09567203e6"
      },
      "source": [
        "def main ():\n",
        "  num_inteiro1 = int(input(\"Digite o primeiro número inteiro: \"))\n",
        "  num_inteiro2 = int(input(\"Digite o segundo número inteiro: \"))\n",
        "  num_real = float(input(\"Digite o primeiro número real: \"))\n",
        "\n",
        "  produtoDobro1ComMetade2(num_inteiro1, num_inteiro2)\n",
        "  somaTriplo1Terceiro(num_inteiro1, num_real)\n",
        "  terceiroAoCubo(num_real)\n",
        "\n",
        "def produtoDobro1ComMetade2 (num_inteiro1, num_inteiro2):\n",
        "  return print(f\"O produto do dobro do primeiro com metade do segundo é: {num_inteiro1*num_inteiro2}\")\n",
        "\n",
        "def somaTriplo1Terceiro (num_inteiro1, num_real):\n",
        "  return print(f\"A soma do triplo do primeiro com o terceiro é: {((num_inteiro1*3) + num_real):.2f}\")\n",
        "\n",
        "def terceiroAoCubo (num_real):\n",
        "  return print(f\"O terceiro elevado ao cubo é: {num_real**3:.2f}\")\n",
        "\n",
        "if __name__ == '__main__':\n",
        "  main()"
      ],
      "execution_count": null,
      "outputs": [
        {
          "output_type": "stream",
          "text": [
            "Digite o primeiro número inteiro: 2\n",
            "Digite o segundo número inteiro: 7\n",
            "Digite o primeiro número real: 17.8\n",
            "O produto do dobro do primeiro com metade do segundo é: 14\n",
            "A soma do triplo do primeiro com o terceiro é: 23.80\n",
            "O terceiro elevado ao cubo é: 5639.75\n"
          ],
          "name": "stdout"
        }
      ]
    },
    {
      "cell_type": "markdown",
      "metadata": {
        "id": "GeccMwZid7LV"
      },
      "source": [
        "\n",
        "12. Tendo como dados de entrada a altura de uma pessoa, construa um algoritmo que calcule seu peso ideal, usando a seguinte fórmula: (72.7*altura) - 58"
      ]
    },
    {
      "cell_type": "code",
      "metadata": {
        "id": "KG7NZMI4eK-R",
        "colab": {
          "base_uri": "https://localhost:8080/"
        },
        "outputId": "e9e6c33c-aa33-4f1c-af77-7b3777d63d11"
      },
      "source": [
        "def main():\n",
        "  altura = float(input(\"Digite a altura: \"))\n",
        "  pesoIdeal = calculaPesoIdeal(altura)\n",
        "  print(f\"O peso ideal é: {pesoIdeal:.2f} kg\")\n",
        "  \n",
        "def calculaPesoIdeal(altura):\n",
        "  return ((72.7*altura) - 58)\n",
        "\n",
        "if __name__ == '__main__':\n",
        "  main()"
      ],
      "execution_count": null,
      "outputs": [
        {
          "output_type": "stream",
          "text": [
            "Digite a altura: 1.67\n",
            "O peso ideal é: 63.41 kg\n"
          ],
          "name": "stdout"
        }
      ]
    },
    {
      "cell_type": "markdown",
      "metadata": {
        "id": "TGfnvz6rd9Q3"
      },
      "source": [
        "\n",
        "13. Tendo como dado de entrada a altura (h) de uma pessoa, construa um algoritmo que calcule seu peso ideal, utilizando as seguintes fórmulas:\n",
        "    - Para homens: (72.7*h) - 58\n",
        "    - Para mulheres: (62.1*h) - 44.7"
      ]
    },
    {
      "cell_type": "code",
      "metadata": {
        "id": "OmLkbOULeKjQ",
        "colab": {
          "base_uri": "https://localhost:8080/"
        },
        "outputId": "8871ccc2-0a7d-4643-c17f-a576b70dbe17"
      },
      "source": [
        "def main():\n",
        "  altura = float(input(\"Digite a altura: \"))\n",
        "  genero = str(input(\"Digite o gênero (m ou f): \"))\n",
        "  pesoIdeal = calculaPesoIdeal(altura, genero)\n",
        "\n",
        "  print(f\"O peso ideal é: {pesoIdeal:.2f} kg\")\n",
        "  \n",
        "def calculaPesoIdeal(altura, genero):\n",
        "  if (genero == 'm'):\n",
        "    return ((72.7*altura) - 58)\n",
        "  elif (genero == 'f'):\n",
        "    return((62.1*altura) -  44.7)\n",
        "  else:\n",
        "    return print(\"Gênero não computado.\")\n",
        "\n",
        "if __name__ == '__main__':\n",
        "  main()"
      ],
      "execution_count": null,
      "outputs": [
        {
          "output_type": "stream",
          "text": [
            "Digite a altura: 1.67\n",
            "Digite o gênero (m ou f): f\n",
            "O peso ideal é: 59.01 kg\n"
          ],
          "name": "stdout"
        }
      ]
    },
    {
      "cell_type": "markdown",
      "metadata": {
        "id": "rUcxxTf6d_4G"
      },
      "source": [
        "\n",
        "14. João Papo-de-Pescador, homem de bem, comprou um microcomputador para controlar o rendimento diário de seu trabalho. Toda vez que ele traz um peso de peixes maior que o estabelecido pelo regulamento de pesca do estado de São Paulo (50 quilos) deve pagar uma multa de R\\$ 4,00 por quilo excedente. João precisa que você faça um programa que leia a variável peso (peso de peixes) e calcule o excesso. Gravar na variável excesso a quantidade de quilos além do limite e na variável multa o valor da multa que João deverá pagar. Imprima os dados do programa com as mensagens adequadas."
      ]
    },
    {
      "cell_type": "code",
      "metadata": {
        "id": "LacOhDYmeKAW",
        "colab": {
          "base_uri": "https://localhost:8080/"
        },
        "outputId": "fc3a6ac8-8085-4152-9f20-b274ec53016e"
      },
      "source": [
        "def main():\n",
        "  peso = float(input(\"Digite o peso (kg): \\n\"))\n",
        "\n",
        "  excedente = calculaExcedente(peso)\n",
        "  multa = calculaMulta(excedente)\n",
        "  exibeResultado(peso, excedente, multa)\n",
        "\n",
        "\n",
        "def calculaExcedente(peso):\n",
        "  return peso - 50\n",
        "\n",
        "def calculaMulta(excedente):\n",
        "  if (excedente >= 0):\n",
        "    return 4*excedente\n",
        "  else:\n",
        "    return 0\n",
        "\n",
        "def exibeResultado(peso, excedente, multa):\n",
        "  print(f\"O peso é: {peso:.2f} kg\")\n",
        "\n",
        "  if (excedente > 0):\n",
        "    print(f\"O peso excedente é: {excedente:.2f} kg\")\n",
        "\n",
        "  print(f\"O valor da multa é: R$ {multa:.2f}\")\n",
        "\n",
        "if __name__ == '__main__':\n",
        "  main()"
      ],
      "execution_count": null,
      "outputs": [
        {
          "output_type": "stream",
          "text": [
            "Digite o peso (kg): \n",
            "50\n",
            "O peso é: 50.00 kg\n",
            "O valor da multa é: R$ 0.00\n"
          ],
          "name": "stdout"
        }
      ]
    },
    {
      "cell_type": "markdown",
      "metadata": {
        "id": "XH9X194beCpW"
      },
      "source": [
        "\n",
        "15. Faça um Programa que pergunte quanto você ganha por hora e o número de horas trabalhadas no mês. Calcule e mostre o total do seu salário no referido mês, sabendo-se que são descontados 11% para o Imposto de Renda, 8% para o INSS e 5% para o sindicato, faça um programa que nos dê:\n",
        "    - salário bruto.\n",
        "    - quanto pagou ao INSS.\n",
        "    - quanto pagou ao sindicato.\n",
        "    - o salário líquido.\n",
        "    - calcule os descontos e o salário líquido, conforme a tabela abaixo:\n",
        "\n",
        "```\n",
        "            + Salário Bruto : R$\n",
        "            - IR (11%) : R$\n",
        "            - INSS (8%) : R$\n",
        "            - Sindicato ( 5%) : R$\n",
        "            = Salário Liquido : R$\n",
        "```\n",
        "> Obs.: Salário Bruto - Descontos = Salário Líquido.\n"
      ]
    },
    {
      "cell_type": "code",
      "metadata": {
        "id": "bTjIis6yeJDi",
        "colab": {
          "base_uri": "https://localhost:8080/"
        },
        "outputId": "c7bfea46-02d4-41cd-d763-fcf7532f2e59"
      },
      "source": [
        "def main():\n",
        "  salario_hora = float(input('Digite o quanto ganha por hora: '))\n",
        "  horas_mes = float(input('Digite quantas horas trabalhou no mês: '))\n",
        "\n",
        "  salario_bruto = calculaSalarioBruto(salario_hora, horas_mes)\n",
        "  desconto_IR = calculaIR(salario_bruto)\n",
        "  desconto_INSS = calculaINSS(salario_bruto)\n",
        "  desconto_sindicato = calculaSindicato(salario_bruto)\n",
        "  salario_liquido = calculaSalarioLiquido(salario_bruto, desconto_IR, desconto_INSS, desconto_sindicato)\n",
        "\n",
        "  print(f'+ Salário Bruto : R$ {salario_bruto:.2f}')\n",
        "  print(f'- IR (11%) : R$ {desconto_IR:.2f}')\n",
        "  print(f'- INSS (8%) : {desconto_INSS:.2f}')\n",
        "  print(f'- Sindicato (5%) : R$ {desconto_sindicato:.2f}')\n",
        "  print(f'= Salário Líquido : R$ {salario_liquido:.2f}')\n",
        "\n",
        "def calculaSalarioBruto(salario_hora, horas_mes):\n",
        "  return salario_hora*horas_mes\n",
        "\n",
        "def calculaIR(salario_bruto):\n",
        "  return salario_bruto*0.11\n",
        "\n",
        "def calculaINSS(salario_bruto):\n",
        "  return salario_bruto*0.08\n",
        "\n",
        "def calculaSindicato(salario_bruto):\n",
        "  return salario_bruto*0.05\n",
        "\n",
        "def calculaSalarioLiquido(salario_bruto, desconto_IR, desconto_INSS, desconto_sindicato):\n",
        "  return (salario_bruto - desconto_IR - desconto_INSS - desconto_sindicato)\n",
        "\n",
        "if __name__ == '__main__':\n",
        "  main()"
      ],
      "execution_count": null,
      "outputs": [
        {
          "output_type": "stream",
          "text": [
            "Digite o quanto ganha por hora: 60\n",
            "Digite quantas horas trabalhou no mês: 60\n",
            "+ Salário Bruto : R$ 3600.00\n",
            "- IR (11%) : R$ 396.00\n",
            "- INSS (8%) : 288.00\n",
            "- Sindicato (5%) : R$ 180.00\n",
            "= Salário Líquido : R$ 2736.00\n"
          ],
          "name": "stdout"
        }
      ]
    },
    {
      "cell_type": "markdown",
      "metadata": {
        "id": "dQgoUp4FeEjs"
      },
      "source": [
        "\n",
        "16. Faça um programa para uma loja de tintas. O programa deverá pedir o tamanho em metros quadrados da área a ser pintada. Considere que a cobertura da tinta é de 1 litro para cada 3 metros quadrados e que a tinta é vendida em latas de 18 litros, que custam R\\$ 80,00. Informe ao usuário a quantidades de latas de tinta a serem compradas e o preço total. Obs.: somente são vendidos um número inteiro de latas."
      ]
    },
    {
      "cell_type": "code",
      "metadata": {
        "id": "BLgRrbqteIiY",
        "colab": {
          "base_uri": "https://localhost:8080/"
        },
        "outputId": "e32241f4-ef5a-48ee-8c25-9431f9d25847"
      },
      "source": [
        "import math\n",
        "\n",
        "tamanho_metros = float(input('Digite o tamanho (em metros quadrados) da área a ser pintada: '))\n",
        "litros_necessario = tamanho_metros/3\n",
        "quantidade_latas = math.ceil(litros_necessario/18)\n",
        "preco = quantidade_latas*80\n",
        "\n",
        "print(preco)\n"
      ],
      "execution_count": null,
      "outputs": [
        {
          "output_type": "stream",
          "text": [
            "Digite o tamanho (em metros quadrados) da área a ser pintada: 280\n",
            "480\n"
          ],
          "name": "stdout"
        }
      ]
    },
    {
      "cell_type": "markdown",
      "metadata": {
        "id": "aDlscibneF_-"
      },
      "source": [
        "\n",
        "17. Faça um Programa para uma loja de tintas. O programa deverá pedir o tamanho em metros quadrados da área a ser pintada. Considere que a cobertura da tinta é de 1 litro para cada 6 metros quadrados e que a tinta é vendida em latas de 18 litros, que custam R\\$ 80,00 ou em galões de 3,6 litros, que custam R\\$ 25,00.\n",
        "  - Informe ao usuário as quantidades de tinta a serem compradas e os respectivos preços em 3 situações:\n",
        "  - comprar apenas latas de 18 litros;\n",
        "  - comprar apenas galões de 3,6 litros;\n",
        "  - misturar latas e galões, de forma que o desperdício de tinta seja menor. Acrescente 10% de folga e sempre arredonde os valores para cima, isto é, considere latas cheias."
      ]
    },
    {
      "cell_type": "code",
      "metadata": {
        "id": "wH56ThFaeIOx",
        "colab": {
          "base_uri": "https://localhost:8080/"
        },
        "outputId": "14c1b9e1-86a2-42b2-89e2-09ab2d968b1a"
      },
      "source": [
        "import math\n",
        "def main():\n",
        "  tamanho_metros = float(input('Digite o tamanho (em metros quadrados) da área a ser pintada: '))\n",
        "  litros_necessario = tamanho_metros/6\n",
        "\n",
        "  compraApenasLatao(tamanho_metros, litros_necessario)\n",
        "  compraApenasLatinha(tamanho_metros, litros_necessario)\n",
        "  compraLataoeLatinha(tamanho_metros, litros_necessario)\n",
        "\n",
        "\n",
        "def compraApenasLatao(tamanho_metros, litros_necessario):\n",
        "  quantidade_latas = math.ceil(litros_necessario/18)\n",
        "  preco = quantidade_latas*80\n",
        "  print(f'- Comprando SOMENTE LATÃO (18L) :Será necessário {quantidade_latas} e o valor é de R$ {preco}\\n')\n",
        "\n",
        "\n",
        "def compraApenasLatinha(tamanho_metros, litros_necessario):\n",
        "  quantidade_latas = math.ceil(litros_necessario/3.6)\n",
        "  preco = quantidade_latas*25\n",
        "  print(f'- Comprando SOMENTE LATINHA (3.6L) :Será necessário {quantidade_latas} e o valor é de R$ {preco}\\n')\n",
        "\n",
        "\n",
        "def compraLataoeLatinha(tamanho_metros, litros_necessario):\n",
        "  contagem_litros = 0\n",
        "  qtd_latao = 0\n",
        "  qtd_latinha = 0\n",
        "\n",
        "  while contagem_litros <= litros_necessario:\n",
        "    if contagem_litros + 18 <= litros_necessario:\n",
        "      contagem_litros = contagem_litros + 18\n",
        "      qtd_latao += 1\n",
        "    else:\n",
        "      break\n",
        "    \n",
        "  while contagem_litros <= litros_necessario:\n",
        "    contagem_litros = contagem_litros + 3.6\n",
        "    qtd_latinha += 1\n",
        "    \n",
        "  \n",
        "  preco_total = 1.1*(qtd_latao*80 + qtd_latinha*25)\n",
        "\n",
        "  print(f'- Comprando LATAO (18L) E LATINHA (3.6L) Será necessário {qtd_latao} latas de 18 L e {qtd_latinha} latas de 3.6 L, e o valor é de R$ {preco_total:.2f}')\n",
        "\n",
        "\n",
        "if __name__ == '__main__':\n",
        "  main()\n"
      ],
      "execution_count": null,
      "outputs": [
        {
          "output_type": "stream",
          "text": [
            "Digite o tamanho (em metros quadrados) da área a ser pintada: 177\n",
            "- Comprando SOMENTE LATÃO (18L) :Será necessário 2 e o valor é de R$ 160\n",
            "\n",
            "- Comprando SOMENTE LATINHA (3.6L) :Será necessário 9 e o valor é de R$ 225\n",
            "\n",
            "- Comprando LATAO (18L) E LATINHA (3.6L) Será necessário 1 latas de 18 L e 4 latas de 3.6 L, e o valor é de R$ 198.00\n"
          ],
          "name": "stdout"
        }
      ]
    },
    {
      "cell_type": "markdown",
      "metadata": {
        "id": "nsH6ogQWeHGf"
      },
      "source": [
        "\n",
        "18. Faça um programa que peça o tamanho de um arquivo para download (em MB) e a velocidade de um link de Internet (em Mbps), calcule e informe o tempo aproximado de download do arquivo usando este link (em minutos)."
      ]
    },
    {
      "cell_type": "code",
      "metadata": {
        "id": "KfQCgryMeHsf",
        "colab": {
          "base_uri": "https://localhost:8080/"
        },
        "outputId": "b541fb03-06bd-4d67-c338-2bbb4987b3d1"
      },
      "source": [
        "def main():\n",
        "  tamanho_arquivo = float(input('Digite o tamanho do arquivo para download (MB): '))\n",
        "  velocidade_internet = float(input('Digite a velocidade de um link de internet (Mbps):'))\n",
        "\n",
        "  tempo = calculaTempo(tamanho_arquivo, velocidade_internet)\n",
        "\n",
        "  print(f'O tempo em minutos para download é de: {tempo:.2f}')\n",
        "\n",
        "def calculaTempo(tamanho_arquivo, velocidade_internet):\n",
        "  return (tamanho_arquivo/(velocidade_internet*60))\n",
        "\n",
        "if __name__ == '__main__':\n",
        "  main()"
      ],
      "execution_count": null,
      "outputs": [
        {
          "output_type": "stream",
          "text": [
            "Digite o tamanho do arquivo para download (MB): 35000\n",
            "Digite a velocidade de um link de internet (Mbps):10\n",
            "O tempo em minutos para download é de: 58.33\n"
          ],
          "name": "stdout"
        }
      ]
    }
  ]
}